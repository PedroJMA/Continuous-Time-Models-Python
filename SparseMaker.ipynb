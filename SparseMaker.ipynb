{
 "cells": [
  {
   "cell_type": "code",
   "execution_count": 16,
   "metadata": {
    "ExecuteTime": {
     "end_time": "2020-10-25T20:20:58.160285Z",
     "start_time": "2020-10-25T20:20:57.866276Z"
    }
   },
   "outputs": [
    {
     "data": {
      "text/plain": [
       "<matplotlib.lines.Line2D at 0x21a193f4348>"
      ]
     },
     "execution_count": 16,
     "metadata": {},
     "output_type": "execute_result"
    },
    {
     "data": {
      "image/png": "[encoded data removed]",
      "text/plain": [
       "<Figure size 576x360 with 2 Axes>"
      ]
     },
     "metadata": {
      "needs_background": "light"
     },
     "output_type": "display_data"
    }
   ],
   "source": [
    "# by Saeed Shaker\n",
    "\n",
    "# This code easily creates the sparse matrices using the corresponding switch vectors, \n",
    "# It does so regardless of the problem's dimension.\n",
    "# See the example below for clarification.\n",
    "\n",
    "import numpy as np\n",
    "import scipy.sparse as sparse\n",
    "import matplotlib.pyplot as plt\n",
    "\n",
    "def SprsMaker4(X, Y, Z, dim):\n",
    "    dimsAll = Z.shape # All dimensions\n",
    "    dimMult = np.prod(dimsAll) # All dimensions multiplied\n",
    "    dimMultLess = np.prod(dimsAll[0:dim-1]) # All dimensions before dim multiplied\n",
    "    dimMultLess = dimMultLess.astype(np.int) #sometimes becomes float - should be integer\n",
    "    dimeln = dimsAll[dim-1] # number of elements in the dimension of interest\n",
    "    \n",
    "    X_st = X.ravel()\n",
    "    Y_st = Y.ravel()\n",
    "    Z_st = Z.ravel()\n",
    "\n",
    "    lowdiag = []\n",
    "    centdiag = np.zeros(dimMult)\n",
    "    updiag = np.zeros(dimMultLess)\n",
    "    \n",
    "    indicat_1 = np.zeros(dimMult);   # this indicator finds the elements for which the dimension of interest is 1\n",
    "    indicat_end = np.zeros(dimMult); # this indicator finds the elements for which the dimension of interest is end\n",
    "    for i01 in range(0 , dimMult , dimMultLess*dimeln):\n",
    "        indicat_1[i01:i01+dimMultLess] = 1\n",
    "    for i01 in range(dimMultLess*(dimeln-1) , dimMult , dimMultLess*dimeln):\n",
    "        indicat_end[i01:i01+dimMultLess] = 1\n",
    "        \n",
    "    Y_st = Y_st + indicat_1*X_st\n",
    "    X_st = X_st*(1 - indicat_1)\n",
    "    \n",
    "    Y_st = Y_st + indicat_end*Z_st\n",
    "    Z_st = Z_st*(1 - indicat_end)\n",
    "    \n",
    "    lowdiag=np.append(lowdiag,X_st)\n",
    "    centdiag = Y_st\n",
    "    updiag=np.append(updiag,Z_st)\n",
    "    \n",
    "    lowdiag = lowdiag[dimMultLess:len(lowdiag)]\n",
    "    \n",
    "    SpMAT = sparse.spdiags(\n",
    "        centdiag,0,dimMult,dimMult) + sparse.spdiags(\n",
    "        updiag,dimMultLess,dimMult,dimMult) + sparse.spdiags(\n",
    "        lowdiag,-dimMultLess,dimMult,dimMult)\n",
    "    \n",
    "    return SpMAT\n",
    "\n",
    "#----------------------------------------------------------\n",
    "\n",
    "# Example: testing SparseMaker\n",
    "# If you have N dimensions, you need to make sure to specify which variable belongs to which dimension\n",
    "# For example let's assume we have three states: a, z, q in the dimensions 1, 2 and 3 respectively.\n",
    "# For any state variable, you need to expand the vectors (yy, chi, zeta) along the other dimensions\n",
    "# Let the number of gridpoints be nA, nZ, nQ for a, z, q respectively.\n",
    "# So for state variable a: expand it across the 2nd and 3rd dimensions of length nZ and nQ respectively.\n",
    "# Do the same for any state of interest, but make sure to keep the state variable in it's current dimension.\n",
    "\n",
    "# Let \n",
    "nA=40; nZ=20; nQ=10\n",
    "\n",
    "# Matrix Bswitch (similar to Benjamin Moll's codes) - making random vectors\n",
    "yy_z = np.random.rand(nZ)\n",
    "chi_z =  np.random.rand(nZ)\n",
    "zeta_z = np.random.rand(nZ)\n",
    "\n",
    "yy_q = np.random.rand(nQ)\n",
    "chi_q =  np.random.rand(nQ)\n",
    "zeta_q = np.random.rand(nQ)\n",
    "\n",
    "#Expanding across other dimensions: Keeping the states in their dimension\n",
    "XX_z = np.tile(chi_z,(nA,nQ,1));  XX_z = np.moveaxis(XX_z, -1 , 1)\n",
    "YY_z = np.tile(yy_z,(nA,nQ,1));   YY_z = np.moveaxis(YY_z, -1 , 1)\n",
    "ZZ_z = np.tile(zeta_z,(nA,nQ,1)); ZZ_z = np.moveaxis(ZZ_z, -1 , 1)\n",
    "\n",
    "XX_q = np.tile(chi_q,(nA,nZ,1));\n",
    "YY_q = np.tile(yy_q,(nA,nZ,1));\n",
    "ZZ_q = np.tile(zeta_q,(nA,nZ,1));\n",
    "\n",
    "Bswitch_z = SprsMaker4(XX_z,YY_z,ZZ_z,2) #z is dimension 2\n",
    "Bswitch_q = SprsMaker4(XX_q,YY_q,ZZ_q,3) #q is dimension 3\n",
    "#Bswitch_e = SprsMaker4(XX_e,YY_e,ZZ_e,4) #e is dimension 4\n",
    "\n",
    "# plot\n",
    "\n",
    "fig, ax = plt.subplots(nrows=1, ncols=2 , figsize=(8,5))\n",
    "ax[0].spy(Bswitch_z, markersize = 4 ,)\n",
    "ax[1].spy(Bswitch_q, markersize = 4 , color = 'orange')"
   ]
  }
 ],
 "metadata": {
  "kernelspec": {
   "display_name": "Python 3",
   "language": "python",
   "name": "python3"
  },
  "language_info": {
   "codemirror_mode": {
    "name": "ipython",
    "version": 3
   },
   "file_extension": ".py",
   "mimetype": "text/x-python",
   "name": "python",
   "nbconvert_exporter": "python",
   "pygments_lexer": "ipython3",
   "version": "3.7.6"
  },
  "latex_envs": {
   "LaTeX_envs_menu_present": true,
   "autoclose": false,
   "autocomplete": true,
   "bibliofile": "biblio.bib",
   "cite_by": "apalike",
   "current_citInitial": 1,
   "eqLabelWithNumbers": true,
   "eqNumInitial": 1,
   "hotkeys": {
    "equation": "Ctrl-E",
    "itemize": "Ctrl-I"
   },
   "labels_anchors": false,
   "latex_user_defs": false,
   "report_style_numbering": false,
   "user_envs_cfg": false
  },
  "toc": {
   "base_numbering": 1,
   "nav_menu": {},
   "number_sections": true,
   "sideBar": true,
   "skip_h1_title": false,
   "title_cell": "Table of Contents",
   "title_sidebar": "Contents",
   "toc_cell": false,
   "toc_position": {},
   "toc_section_display": true,
   "toc_window_display": true
  }
 },
 "nbformat": 4,
 "nbformat_minor": 4
}
